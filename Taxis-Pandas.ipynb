{
 "cells": [
  {
   "cell_type": "markdown",
   "id": "69b4b45e",
   "metadata": {},
   "source": [
    "#### Versión con archivos locales"
   ]
  },
  {
   "cell_type": "code",
   "execution_count": 1,
   "id": "e91bab29",
   "metadata": {},
   "outputs": [],
   "source": [
    "import pandas as pd\n",
    "\n",
    "# columnas que nos queremos quedar\n",
    "columns = ['passenger_count', 'tip_amount']\n",
    "\n",
    "# lista vacia para ir juntando los dfs\n",
    "df_list = []\n",
    "\n",
    "# levantamos cada archivo\n",
    "for i in range(1, 13):\n",
    "    file_name = f'yellow_tripdata_2015-{i:02}.parquet'\n",
    "    df = pd.read_parquet(file_name, columns=columns)\n",
    "    df_list.append(df)\n",
    "\n",
    "# juntamos todo en un dataframe grande\n",
    "big_df = pd.concat(df_list)"
   ]
  },
  {
   "cell_type": "markdown",
   "id": "d37c04b7",
   "metadata": {},
   "source": [
    "#### Versión con archivos en internet"
   ]
  },
  {
   "cell_type": "code",
   "execution_count": null,
   "id": "dadcba24",
   "metadata": {},
   "outputs": [],
   "source": [
    "import pandas as pd\n",
    "\n",
    "# columnas que nos queremos quedar\n",
    "columns = ['passenger_count', 'tip_amount']\n",
    "\n",
    "# lista vacia para ir juntando los dfs\n",
    "df_list = []\n",
    "\n",
    "# traemos cada archivo\n",
    "for i in range(1,13):\n",
    "    file_name = f'yellow_tripdata_2015-{i:02d}.parquet'\n",
    "    url = f'https://d37ci6vzurychx.cloudfront.net/trip-data/{file_name}'\n",
    "    df = pd.read_parquet(url, columns=columns)\n",
    "    df_list.append(df)\n",
    "\n",
    "# juntamos todo en un dataframe grande\n",
    "big_df = pd.concat(df_list)"
   ]
  },
  {
   "cell_type": "code",
   "execution_count": 2,
   "id": "34ba0265",
   "metadata": {},
   "outputs": [
    {
     "data": {
      "text/plain": [
       "146039231"
      ]
     },
     "execution_count": 2,
     "metadata": {},
     "output_type": "execute_result"
    }
   ],
   "source": [
    "len(big_df)"
   ]
  },
  {
   "cell_type": "code",
   "execution_count": 3,
   "id": "e820f913",
   "metadata": {},
   "outputs": [
    {
     "name": "stdout",
     "output_type": "stream",
     "text": [
      "<class 'pandas.core.frame.DataFrame'>\n",
      "Index: 146039231 entries, 0 to 11452995\n",
      "Data columns (total 2 columns):\n",
      " #   Column           Dtype  \n",
      "---  ------           -----  \n",
      " 0   passenger_count  int64  \n",
      " 1   tip_amount       float64\n",
      "dtypes: float64(1), int64(1)\n",
      "memory usage: 3.3 GB\n"
     ]
    }
   ],
   "source": [
    "big_df.info()"
   ]
  },
  {
   "cell_type": "code",
   "execution_count": 4,
   "id": "2231750e",
   "metadata": {},
   "outputs": [
    {
     "data": {
      "text/plain": [
       "passenger_count\n",
       "0    1.596746\n",
       "1    1.752972\n",
       "2    1.706129\n",
       "3    1.580011\n",
       "4    1.459410\n",
       "5    1.728789\n",
       "6    1.680909\n",
       "7    4.067709\n",
       "8    5.146011\n",
       "9    5.198970\n",
       "Name: tip_amount, dtype: float64"
      ]
     },
     "execution_count": 4,
     "metadata": {},
     "output_type": "execute_result"
    }
   ],
   "source": [
    "big_df.groupby(\"passenger_count\").tip_amount.mean()"
   ]
  },
  {
   "cell_type": "code",
   "execution_count": null,
   "id": "1028596a-8dac-4bd9-8575-66b76e7ae01b",
   "metadata": {},
   "outputs": [],
   "source": []
  }
 ],
 "metadata": {
  "kernelspec": {
   "display_name": "Python 3 (ipykernel)",
   "language": "python",
   "name": "python3"
  },
  "language_info": {
   "codemirror_mode": {
    "name": "ipython",
    "version": 3
   },
   "file_extension": ".py",
   "mimetype": "text/x-python",
   "name": "python",
   "nbconvert_exporter": "python",
   "pygments_lexer": "ipython3",
   "version": "3.10.13"
  }
 },
 "nbformat": 4,
 "nbformat_minor": 5
}

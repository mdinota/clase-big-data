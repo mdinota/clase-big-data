{
 "cells": [
  {
   "cell_type": "code",
   "execution_count": 2,
   "id": "ccdc3822-94ab-45d6-aa2f-999144e10beb",
   "metadata": {
    "tags": []
   },
   "outputs": [
    {
     "name": "stdout",
     "output_type": "stream",
     "text": [
      "+---------------+------------------+\n",
      "|passenger_count|   avg(tip_amount)|\n",
      "+---------------+------------------+\n",
      "|              0|1.5967455694024544|\n",
      "|              7| 4.067709251101321|\n",
      "|              6|1.6809094828879472|\n",
      "|              9| 5.198969696969696|\n",
      "|              5| 1.728789283610509|\n",
      "|              1|1.7529720022452289|\n",
      "|              3|1.5800112230844956|\n",
      "|              8| 5.146011235955056|\n",
      "|              2|1.7061289523911716|\n",
      "|              4|1.4594104637872471|\n",
      "+---------------+------------------+\n",
      "\n"
     ]
    }
   ],
   "source": [
    "from pyspark.sql import SparkSession\n",
    "from pyspark.sql.functions import mean\n",
    "\n",
    "# creamos una sesión de spark\n",
    "spark = SparkSession.builder.appName(\"ParquetReader\").getOrCreate()\n",
    "\n",
    "# columnas que nos queremos quedar\n",
    "columns = ['passenger_count', 'tip_amount']\n",
    "\n",
    "# lista vacia para ir juntando los dfs\n",
    "df_list = []\n",
    "\n",
    "# levantamos cada archivo\n",
    "for i in range(1, 13):\n",
    "    file_name = f'yellow_tripdata_2015-{i:02}.parquet'\n",
    "    df = spark.read.format(\"parquet\").load(file_name).select(columns)\n",
    "    df_list.append(df)\n",
    "\n",
    "# juntamos todo en un dataframe grande\n",
    "big_df = df_list[0]\n",
    "for i in range(1, len(df_list)):\n",
    "    big_df = big_df.union(df_list[i])\n",
    "\n",
    "# calculate the mean tip amount per passenger count\n",
    "mean_tip_amount = big_df.groupBy(\"passenger_count\").agg(mean(\"tip_amount\"))\n",
    "\n",
    "# show the results\n",
    "mean_tip_amount.show()\n"
   ]
  },
  {
   "cell_type": "code",
   "execution_count": null,
   "id": "93095ae6-31f3-4f46-a7aa-fcf3cf7780e5",
   "metadata": {},
   "outputs": [],
   "source": []
  }
 ],
 "metadata": {
  "kernelspec": {
   "display_name": "Python 3 (ipykernel)",
   "language": "python",
   "name": "python3"
  },
  "language_info": {
   "codemirror_mode": {
    "name": "ipython",
    "version": 3
   },
   "file_extension": ".py",
   "mimetype": "text/x-python",
   "name": "python",
   "nbconvert_exporter": "python",
   "pygments_lexer": "ipython3",
   "version": "3.11.6"
  }
 },
 "nbformat": 4,
 "nbformat_minor": 5
}
